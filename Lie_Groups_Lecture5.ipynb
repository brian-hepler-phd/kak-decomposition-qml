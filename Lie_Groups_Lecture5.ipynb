{
 "cells": [
  {
   "cell_type": "markdown",
   "id": "c72b5fa2-afbb-445b-a43f-a8bdc90ef920",
   "metadata": {},
   "source": [
    "![QF-logo](https://brainhelper.wordpress.com/wp-content/uploads/2025/03/qf-up.png)"
   ]
  },
  {
   "cell_type": "markdown",
   "id": "fa19d051",
   "metadata": {},
   "source": [
    "# Quantum Gate Decomposition via Lie Theory\n",
    "### Khaneja-Glaser Algorithm and Quantum Machine Learning (QML) with PennyLane\n",
    "Brian Hepler | Quantum Formalism"
   ]
  },
  {
   "cell_type": "markdown",
   "id": "5614d26c",
   "metadata": {},
   "source": [
    "### Objectives\n",
    "In this notebook, we explore two key methods for decomposing arbitrary two-qubit gates in $SU(4)$:\n",
    "\n",
    "- **Khaneja-Glaser Decomposition**:  \n",
    "  An explicit, exact decomposition method based on the Cartan (KAK) decomposition from Lie Theory [1].\n",
    "\n",
    "- **Quantum Machine Learning (QML)**:  \n",
    "  A gradient-based variational approach utilizing PennyLane's automatic differentiation and variational quantum circuits to approximate the desired unitary gates.\n",
    "\n",
    "**Learning Goals:**\n",
    "- Gain intuition and computational experience with gate decomposition algorithms used extensively in quantum computing.\n",
    "- Develop familiarity with practical numerical implementations of these algorithms.\n",
    "- Understand connections between abstract mathematical concepts (Lie groups/algebras) and modern quantum computing applications."
   ]
  },
  {
   "cell_type": "markdown",
   "id": "663a159d",
   "metadata": {},
   "source": [
    "## Part 1: Khaneja-Glaser Algorithm Implementation\n",
    "---\n",
    "\n",
    "As mentioned above, the **Khaneja-Glaser algorithm** is a specific implementation of the **Cartan (KAK) decomposition**, allowing us to factor an arbitrary two-qubit gate $U \\in SU(4)$ as:\n",
    "\n",
    "$$\n",
    "U = k_1 A k_2\n",
    "$$\n",
    "\n",
    "Here,\n",
    "\n",
    "- $k_1, k_2 \\in SU(2)\\otimes SU(2)$ represent **local** gates acting independently on each qubit.\n",
    "- $A$ is an entangling, **nonlocal** two-qubit gate characterized explicitly by parameters associated with a Cartan subalgebra of the Lie algebra $\\mathfrak{su}(4)$.\n"
   ]
  },
  {
   "cell_type": "markdown",
   "id": "53d07d22-db06-4931-a620-606ed5c3b170",
   "metadata": {},
   "source": [
    "Let's briefly recall how the KAK decomposition works. Let $G$ be a compact, connected Lie group, and let $\\mathfrak{g}$ be its associated Lie algebra. \n",
    "\n",
    "The KAK decomposition on $G$ begins a Cartan decomposition of $\\mathfrak{g}$, which is an orthogonal splitting \n",
    "$$\n",
    "\\mathfrak{g} = \\mathfrak{l} \\oplus \\mathfrak{p}\n",
    "$$\n",
    "into a *vertical* subspace $\\mathfrak{l}$ and a *horizontal* subspace $\\mathfrak{p}$. Here, the splitting is orthogonal with respect to the Killing form on $\\mathfrak{g}$, but in the case of $\\mathfrak{g} = \\mathfrak{su}(4)$, we can simply take the **Hilbert-Schmidt inner product**, defined by $\\langle x,y \\rangle = \\mathrm{Tr}(x^* y)$, where $x^* = \\overline{x}^T$ is conjugate transpose of $x$. The subspaces $\\mathfrak{l}$ and $\\mathfrak{p}$ satisfy the following important commutation relations:\n",
    "$$\n",
    "[\\mathfrak{l},\\mathfrak{l}] \\subset \\mathfrak{l}, \\quad [\\mathfrak{l},\\mathfrak{p}] \\subset \\mathfrak{p}, \\quad [\\mathfrak{p},\\mathfrak{p}] \\subset \\mathfrak{l}.\n",
    "$$\n",
    "Together, these imply that \n",
    "1. The vertical subspace $\\mathfrak{l}$ is a Lie subalgebra of $\\mathfrak{g}$,\n",
    "2. The horizontal subspace $\\mathfrak{p}$ is invariant under the adjoint action of $\\mathfrak{l}$, and\n",
    "3. Any Lie subalgebra $\\mathfrak{a} \\subset \\mathfrak{p}$ must be Abelian, i.e., $[\\mathfrak{a},\\mathfrak{a}] = 0$."
   ]
  },
  {
   "cell_type": "markdown",
   "id": "9aa71d3d-81cf-4291-8c9f-3cf5dabcbb8d",
   "metadata": {},
   "source": [
    "For $\\mathfrak{su}(4)$, we take $\\mathfrak{l} = \\mathfrak{su}(2) \\oplus \\mathfrak{su}(2)$ as infinitesimal generators of our local gates, and the complement \n",
    "$$\n",
    "\\mathfrak{p} = \\mathrm{Span} \\{iX \\otimes X, iY \\otimes Y, iZ \\otimes Z, iX \\otimes Y, iY \\otimes Z, \\cdots \\}\n",
    "$$\n",
    "as infinitesimal generators for our entangling gates. "
   ]
  },
  {
   "cell_type": "markdown",
   "id": "81bab164-e906-49db-97a7-f485ba002e75",
   "metadata": {},
   "source": [
    "Let $\\mathfrak{a} \\subset \\mathfrak{p}$ be a Lie subalgebra of $\\mathfrak{g}$ which is maximal with respect to inclusion. This maximal Abelian subalgebra is not unique -- however, if $\\mathfrak{a}$ is any other such maximal Abelian subalgebra of $\\mathfrak{p}$, there exists an element $k \\in K = \\exp(\\mathfrak{l})$ such that \n",
    "$$\n",
    "\\mathfrak{a}' = k \\mathfrak{a} k^{-1} = \\mathrm{Ad}_k (\\mathfrak{a}).\n",
    "$$\n",
    "That is, $\\mathfrak{a}$ and $\\mathfrak{a}'$ are *conjugate* under the Adjoint action of the Lie subgroup $K \\subset G$. These conjugacy classes (or orbits of the Adjoint action of $K$) comprise all of $\\mathfrak{p}$, i.e.,\n",
    "$$\n",
    "\\mathfrak{p} = \\bigcup_{k \\in K} \\mathrm{Ad}_k(\\mathfrak{a})\n",
    "$$\n",
    "for any choice of maximal Abelian subalgebra. For simplicity of notation, we often just refer to such a subalgebra as a **Cartan subalgebra**. A standard choice of Cartan subalgebra for $\\mathfrak{su}(4)$ is generated by the Pauli matrices:\n",
    "$$\n",
    "\\mathfrak{a} = \\mathrm{Span} \\{i X \\otimes X, i Y \\otimes Y, i Z \\otimes Z \\}.\n",
    "$$\n",
    "A quick check shows that these elements all commute with one another!"
   ]
  },
  {
   "cell_type": "code",
   "execution_count": 1,
   "id": "02f603b5",
   "metadata": {},
   "outputs": [],
   "source": [
    "# Import libraries for Khaneja-Glaser implementation\n",
    "import numpy as np \n",
    "from scipy.linalg import expm, logm, svd, norm\n",
    "from scipy.optimize import root\n",
    "\n",
    "# Define Pauli matrices\n",
    "X = np.array([[0, 1], [1, 0]]) # Pauli-X\n",
    "Y = np.array([[0, -1j], [1j, 0]]) # Pauli-Y\n",
    "Z = np.array([[1, 0], [0, -1]]) # Pauli-Z\n",
    "I2 = np.eye(2) # 2x2 identity"
   ]
  },
  {
   "cell_type": "code",
   "execution_count": 2,
   "id": "af3ff6e5-c6dc-4331-bb8d-dba9aa984ed5",
   "metadata": {},
   "outputs": [],
   "source": [
    "# Define basis for the Cartan subalgebra for su(4): span{XX, YY, ZZ}.\n",
    "XX = np.kron(X, X) \n",
    "YY = np.kron(Y, Y)\n",
    "ZZ = np.kron(Z, Z)\n",
    "cartan_basis = [XX, YY, ZZ]"
   ]
  },
  {
   "cell_type": "markdown",
   "id": "4b88ec45-e844-44f6-9f8a-7bc501320c1d",
   "metadata": {},
   "source": [
    "^By linearity, we can omit the factor of $i$ in front of each tensor product when checking commutativity."
   ]
  },
  {
   "cell_type": "markdown",
   "id": "c89b9989-fe7d-4d2f-8a05-2e6f0d641342",
   "metadata": {},
   "source": [
    "How does this help us decompose elements in our original Lie group $SU(4)$? Since $SU(4)$ is compact and connected, the exponential map is surjective, so any Lie group element $U \\in SU(4)$ can be expressed as $U = e^g$ for some $g \\in \\mathfrak{su}(4)$. "
   ]
  },
  {
   "cell_type": "markdown",
   "id": "3f735bc7-a6ec-4915-82a8-958a2d053e36",
   "metadata": {},
   "source": [
    "To achieve this decomposition, we implement the following steps, based on the approach in Sá Earp–Pachos [2] and the Cartan decomposition method developed by Khaneja–Glaser [1]:\n",
    "\n",
    "### 1. **Compute the logarithm** $g = \\log(U)$ to map $U$ into the Lie algebra.\n",
    "\n",
    "We decompose $\\mathfrak{su}(4) = \\mathfrak{l} \\oplus \\mathfrak{p}$, where $\\mathfrak{l}$ is the Lie algebra of local (single-qubit) operations and $\\mathfrak{p}$ contains non-local directions. We aim to write $g = l + p$, with $l \\in \\mathfrak{l}$, $p \\in \\mathfrak{p}$.\n",
    "\n",
    "\n",
    "### 2. **Project $g$ orthogonally onto a fixed Cartan subalgebra** $\\mathfrak{a} \\subset \\mathfrak{p}$.\n",
    "\n",
    "This gives an initial approximation for the non-local entangling part of $g$, denoted $p_{\\text{approx}}$. We use a fixed basis of $\\mathfrak{a} = \\mathrm{Span}\\{i\\,XX, i\\,YY, i\\,ZZ\\}$ for this projection.\n",
    "\n",
    "\n",
    "### 3. **Numerical refinement** of $p_{\\text{approx}}$ using a root-finding method.\n",
    "\n",
    "We refine $p_{\\text{approx}}$ to a more accurate solution $p \\in \\mathfrak{a}$ using the **Baker–Campbell–Hausdorff (BCH) expansion** of the group product $e^l e^p$. The BCH series gives:\n",
    "\n",
    "$$\n",
    "g = l + p + \\frac{1}{2}[l,p] + \\frac{1}{12}[l,[l,p]] + \\frac{1}{12}[p,[p,l]] + \\cdots\n",
    "$$\n",
    "\n",
    "By truncating after the leading terms, we derive an approximation for $l$ as:\n",
    "\n",
    "$$\n",
    "l_{\\text{approx}} = g - p_{\\text{approx}} - \\tfrac{1}{2}[g - p_{\\text{approx}},\\, p_{\\text{approx}}].\n",
    "$$\n",
    "\n",
    "We then define a **residual function** that measures the deviation of $p$ from satisfying this truncated relation, and use a numerical root solver to drive this residual to zero.\n",
    "\n",
    "> **Why this works:** This step numerically solves a fixed-point condition derived in Khaneja–Glaser’s decomposition framework, approximating the condition that $g = l + p$ with higher-order corrections. The residual we minimize corresponds to the leading terms in the BCH expansion and enforces the consistency of $p \\in \\mathfrak{a}$ and $l \\in \\mathfrak{l}$ in reconstructing $g$. (see [1])\n",
    "\n",
    "\n",
    "### 4. **Extract local factors** from the decomposition.\n",
    "\n",
    "Having found the refined value of $p$ (denoted `p_sol` in the code), we recover:\n",
    "\n",
    "$$\n",
    "e^l = U e^{-p} = K_0.\n",
    "$$\n",
    "\n",
    "Next, we diagonalize $p$ to obtain a canonical form. Since $p \\in \\mathfrak{a}$ is Hermitian, there exists a unitary matrix $K_1 \\in SU(4)$ such that\n",
    "\n",
    "$$\n",
    "a = K_1^{-1} p K_1\n",
    "$$\n",
    "\n",
    "is diagonal. Then:\n",
    "\n",
    "$$\n",
    "e^p = K_1 \\exp(a) K_1^{-1}, \\quad \\text{with } A = \\exp(a).\n",
    "$$\n",
    "\n",
    "> **Clarification:** The diagonal matrix $a$ lies in a Cartan subalgebra conjugate to the original $\\mathfrak{a} = \\mathrm{Span}\\{iXX, iYY, iZZ\\}$. While we project into a fixed Cartan basis, the actual decomposition ends up expressed in the eigenbasis of $p$, which is equally valid. All Cartan subalgebras in $\\mathfrak{su}(4)$ are conjugate, and so this does not affect the correctness of the decomposition.\n",
    "\n",
    "\n",
    "### 5. **Final approximation**\n",
    "\n",
    "We now obtain the decomposition:\n",
    "\n",
    "$$\n",
    "U_{\\text{approx}} = K_0 K_1 A K_1^{-1}\n",
    "$$\n",
    "\n",
    "and quantify its accuracy using the Hilbert–Schmidt norm:\n",
    "\n",
    "$$\n",
    "\\text{Error} = \\| U - U_{\\text{approx}} \\|_{\\text{HS}}.\n",
    "$$\n",
    "\n",
    "> **Note on canonical form:** One can further simplify the result by sorting the eigenvalues of $a$ (placing it into the Weyl chamber) and fixing the global phases of the eigenvectors in $K_1$, but this is not necessary for correctness. The decomposition as given is valid and reconstructs $U$ to machine precision (observed error $\\sim 3.3 \\times 10^{-16}$).\n",
    "\n",
    "---\n",
    "\n",
    "Here’s the complete numerical implementation:"
   ]
  },
  {
   "cell_type": "code",
   "execution_count": 3,
   "id": "f12df374-b93f-4e8d-a6d2-a4c478b731be",
   "metadata": {},
   "outputs": [],
   "source": [
    "def project_onto_cartan(A, basis):\n",
    "    \"\"\"\n",
    "    Projects matrix A onto the subspace spanned by the given basis elements.\n",
    "    Assumes the basis is orthogonal (or normalized) with respect to the Frobenius inner product.\n",
    "    \"\"\"\n",
    "    proj = np.zeros_like(A, dtype=complex)\n",
    "    for B in basis:\n",
    "        coef = np.trace(A.conj().T @ B) / np.trace(B.conj().T @ B)\n",
    "        proj += coef * B\n",
    "    return proj"
   ]
  },
  {
   "cell_type": "code",
   "execution_count": 4,
   "id": "1398f15d-65ed-4b76-9c0b-1b25a7b2ab68",
   "metadata": {},
   "outputs": [],
   "source": [
    "def cartan_decomposition(U, tol=1e-6):\n",
    "    # Step 1: Compute the matrix logarithm of U.\n",
    "    g = logm(U)\n",
    "    \n",
    "    # Step 2: Project g onto the Cartan subalgebra to obtain an initial candidate for p.\n",
    "    p_approx = project_onto_cartan(g, cartan_basis)\n",
    "    \n",
    "    # Step 3a: Define a residual function that operates on real-valued vectors.\n",
    "    def residual_real(vec):\n",
    "        # Reconstruct the complex matrix P from its real and imaginary parts.\n",
    "        P = vec[:16].reshape((4, 4)) + 1j * vec[16:].reshape((4, 4))\n",
    "        commutator = g @ P - P @ g\n",
    "        l_approx = g - P - 0.5 * commutator\n",
    "        proj = project_onto_cartan(g - l_approx, cartan_basis)\n",
    "        res = P - proj\n",
    "        # Separate into real and imaginary parts and flatten.\n",
    "        return np.concatenate((np.real(res).flatten(), np.imag(res).flatten()))\n",
    "    \n",
    "    # Step 3b: Create an initial guess by splitting p_approx into real and imaginary parts.\n",
    "    vec0 = np.concatenate((np.real(p_approx.flatten()), np.imag(p_approx.flatten())))\n",
    "    sol = root(residual_real, vec0, tol=tol)\n",
    "    if not sol.success:\n",
    "        raise ValueError(\"Root-finding for p did not converge.\")\n",
    "    # Step 3c: Reconstruct p from the solution vector.\n",
    "    p_sol = sol.x[:16].reshape((4, 4)) + 1j * sol.x[16:].reshape((4, 4))\n",
    "    \n",
    "    # Step 4a: Compute K0 = U * exp(-m_sol)\n",
    "    K0 = U @ expm(-p_sol)\n",
    "    \n",
    "    # Step 4b: For simplicity, we use the eigen-decomposition of p_sol to define K1.\n",
    "    eigvals, eigvecs = np.linalg.eig(p_sol)\n",
    "    K1 = eigvecs  # In a full algorithm, ordering and phase corrections would be applied.\n",
    "\n",
    "    # Step 4c: Compute a = K1^(-1) * p_sol * K1 and then A = exp(a)\n",
    "    a = np.linalg.inv(K1) @ p_sol @ K1\n",
    "    A = expm(a)\n",
    "    \n",
    "    # Step 5: Reconstruct U as a check: U_reconstructed = K0 * K1 * A * K1^{-1}\n",
    "    U_reconstructed = K0 @ K1 @ A @ np.linalg.inv(K1)\n",
    "\n",
    "    \n",
    "    error = norm(U - U_reconstructed)\n",
    "    print(\"Reconstruction error:\", error)\n",
    "    \n",
    "    return U_reconstructed, K0, K1, A, error"
   ]
  },
  {
   "cell_type": "markdown",
   "id": "27c04fd8-41ab-4773-8658-bb5c86eb24b0",
   "metadata": {},
   "source": [
    "### Numerical Verification\n",
    "\n",
    "To demonstrate the algorithm, we generate a random $SU(4)$ matrix using scipy.stats, which samples a unitary matrix uniformly at random from $U(4)$ according to the **Haar measure**. After normalizing our random unitary, we verify our decomposition by checking how accurately we can reconstruct the original matrix:"
   ]
  },
  {
   "cell_type": "code",
   "execution_count": 7,
   "id": "61a51d79-6f08-416b-82df-2254c171aa1b",
   "metadata": {},
   "outputs": [
    {
     "name": "stdout",
     "output_type": "stream",
     "text": [
      "Reconstruction error: 3.3972246307450016e-16\n"
     ]
    }
   ],
   "source": [
    "from scipy.stats import unitary_group\n",
    "\n",
    "U = unitary_group.rvs(4) # generates a random element U of U(4)\n",
    "det_U = np.linalg.det(U) # divide U by its determinant to normalize\n",
    "U_SU = U / det_U**(1/4) # U_SU is now a random element of SU(4)\n",
    "\n",
    "# Test the decomposition.\n",
    "U_reconstructed ,K0, K1, A, err = cartan_decomposition(U_SU)"
   ]
  },
  {
   "cell_type": "markdown",
   "id": "0b956297-6e16-45c3-808d-44f6ed4e635e",
   "metadata": {},
   "source": [
    "### Interpretation and Applications\n",
    "\n",
    "The Cartan decomposition explicitly separates the “local” structure (represented by $k_0$ and $k_1$, which can be implemented via single-qubit gates) from the “nonlocal” or entangling operations (represented by $A$). Such decompositions are crucial in quantum computing for efficient gate synthesis, quantum circuit optimization, and characterization of quantum entanglement."
   ]
  },
  {
   "cell_type": "markdown",
   "id": "3909953b",
   "metadata": {},
   "source": [
    "--- \n",
    "\n",
    "## Part 2: Quantum Machine Learning Approach\n",
    "\n",
    "We now demonstrate an alternative approach to performing the KAK decomposition for a two‑qubit unitary in $SU(4)$. Rather than computing a closed‑form solution, we build a **variational quantum circuit** whose structure reflects the canonical form\n",
    "\n",
    "$$\n",
    "U = (U_A \\otimes U_B)\\; \\exp\\Bigl[-\\frac{i}{2}(c_x\\,X\\otimes X + c_y\\,Y\\otimes Y + c_z\\,Z\\otimes Z)\\Bigr]\\; (V_A \\otimes V_B)\n",
    "$$\n",
    "\n",
    "and use **gradient descent** (with Pennylane’s automatic differentiation) to optimize the parameters so that the circuit unitary approximates a given target $U_\\text{target}$. "
   ]
  },
  {
   "cell_type": "markdown",
   "id": "6bf069e8-f753-4575-a597-7475dde9b5b3",
   "metadata": {},
   "source": [
    "### Why QML? \n",
    "While exact algebraic methods like Khaneja-Glaser are rigorous and precise, they're not always easy to implement efficiently on quantum hardware. Quantum machine learning methods, especially variational algorithms, are practical alternatives for synthesizing gates approximately."
   ]
  },
  {
   "cell_type": "markdown",
   "id": "dcde6f96-88bc-4d8e-87ae-76f996cb117c",
   "metadata": {},
   "source": [
    "### Variational Quantum Circuit Ansatz\n",
    "\n",
    "We implement a variational quantum circuit designed to approximate arbitrary two-qubit gates $U \\in SU(4)$. The circuit structure (called its *ansatz*) consists of three distinct layers:\n",
    "\n",
    "1. **Initial local rotations:**\n",
    "Two single-qubit gates (parameterized by **Euler angles**) acting independently on each qubit. Each gate is implemented using the universal single-qubit rotation gate $U(\\theta, \\phi, \\lambda)$:\n",
    "$$\n",
    "U(\\theta, \\phi, \\lambda) = R_Z(\\phi) R_Y(\\theta) R_Z(\\lambda)\n",
    "$$\n",
    "\n",
    "where $R_Z(\\phi) = e^{-\\frac{i}{2} \\phi Z}$, etc. are rotations about the $Z$ or $Y$ axes. This gives 6 parameters, \n",
    "$$\n",
    "U_{local}^{(pre)}(\\theta_0,\\theta_1,\\theta_2,\\theta_3,\\theta_4,\\theta_5) = U(\\theta_0,\\theta_1,\\theta_2) \\otimes U(\\theta_3,\\theta_4,\\theta_5).\n",
    "$$\n",
    "\n",
    "2. **Nonlocal (Entangling) layer:**\n",
    "Parameterized two-qubit gates that generate entanglement between qubits. We use three canonical two-qubit rotations:\n",
    "$$\n",
    "R_{XX}(c_x) = e^{-\\frac{i}{2} c_x X\\otimes X}, \\quad R_{YY}(c_y) = e^{-\\frac{i}{2} c_y Y \\otimes Y}, \\quad R_{ZZ}(c_z) = e^{-\\frac{i}{2} c_z Z \\otimes Z}\n",
    "$$\n",
    "\n",
    "These correspond exactly to the KAK decomposition’s entangling component. This contributes 3 parameters, \n",
    "$$\n",
    "U_{nonlocal}(\\theta_6,\\theta_7,\\theta_8) = R_{XX}(\\theta_6) R_{YY}(\\theta_7) R_{ZZ}(\\theta_8).\n",
    "$$\n",
    "Since these elements arise from the Cartan subalgebra of $\\mathfrak{su}(4)$, they commute with each other, and thus their exponentials multiply in the \"expected\" way. I.e., we use the result that if $A,B$ are commuting Hermitian operators, then $e^A e^B = e^{A+B}$.\n",
    "\n",
    "3. **Final Local Rotations:**\n",
    "Another round of single-qubit rotations to further refine and approximate the desired target unitary. This last adjustment contributes another 6 parameters as in step 1, yielding the unitary $U_{local}^{(post)}$ with parameters $\\theta_{10},\\cdots,\\theta_{14}$.\n",
    "\n",
    "The final structure of circuit reflects the decomposition discussed in lecture:\n",
    "$$\n",
    "U_{\\text{ansatz}}(\\theta_0,\\cdots,\\theta_{14}) = (U_{\\text{local}}^{(post)})\\,  U_{\\text{nonlocal}} \\, (U_{\\text{local}}^{(pre)})\n",
    "$$"
   ]
  },
  {
   "cell_type": "code",
   "execution_count": 8,
   "id": "0c35568b-2142-4c7f-8e9b-a6e0dae333e3",
   "metadata": {},
   "outputs": [
    {
     "name": "stdout",
     "output_type": "stream",
     "text": [
      "Target unitary U_target:\n",
      "[[ 0.17784254+0.53566725j -0.57679714-0.38914519j  0.32294883+0.14579992j\n",
      "   0.09918299-0.24882299j]\n",
      " [ 0.34282511+0.08147512j  0.03338286-0.28824379j -0.26999841-0.62474674j\n",
      "   0.50155264+0.2772565j ]\n",
      " [-0.3096699 +0.65474584j -0.12809739+0.45443503j -0.48434308-0.10585033j\n",
      "  -0.05236295+0.06291185j]\n",
      " [ 0.15899801-0.08600837j -0.28295673-0.35873044j -0.38203116+0.13963697j\n",
      "  -0.58842656+0.49686824j]]\n"
     ]
    }
   ],
   "source": [
    "import pennylane as qml\n",
    "import pennylane.numpy as np\n",
    "import numpy as np_orig\n",
    "from scipy.stats import unitary_group\n",
    "\n",
    "# Generate a random 4x4 unitary from the Haar measure using SciPy\n",
    "# and ensure it lies in SU(4) (i.e. determinant = 1 up to global phase).\n",
    "U_target_np = unitary_group.rvs(4)\n",
    "det = np_orig.linalg.det(U_target_np)\n",
    "U_target_np = U_target_np / (det ** (1/4))\n",
    "# Convert to Pennylane's numpy array\n",
    "U_target = np.array(U_target_np)\n",
    "\n",
    "print(\"Target unitary U_target:\")\n",
    "print(U_target)"
   ]
  },
  {
   "cell_type": "code",
   "execution_count": 92,
   "id": "dff5d77d-3765-45ff-bbab-1c6c5231f114",
   "metadata": {},
   "outputs": [],
   "source": [
    "# We use 15 parameters:\n",
    "# - First 6 parameters: local rotations on qubits 0 and 1 (pre-nonlocal part)\n",
    "# - Next 3 parameters: nonlocal interaction parameters (c_x, c_y, c_z)\n",
    "# - Last 6 parameters: local rotations on qubits 0 and 1 (post-nonlocal part)\n",
    "\n",
    "dev = qml.device(\"default.qubit\", wires=2)\n",
    "\n",
    "@qml.qnode(dev, interface=\"autograd\")\n",
    "def variational_circuit(params):\n",
    "    # Pre-nonlocal local rotations:\n",
    "    qml.Rot(params[0], params[1], params[2], wires=0)\n",
    "    qml.Rot(params[3], params[4], params[5], wires=1)\n",
    "    \n",
    "    # Nonlocal part implemented as a product of three Ising interactions.\n",
    "    # Pennylane's IsingXX, IsingYY, IsingZZ gates implement:\n",
    "    #   exp(-i * theta/2 * (X⊗X)), etc.\n",
    "    # Setting theta = c_x (for example) gives the desired factor exp(-i/2 c_x X⊗X)\n",
    "    qml.IsingXX(params[6], wires=[0, 1])\n",
    "    qml.IsingYY(params[7], wires=[0, 1])\n",
    "    qml.IsingZZ(params[8], wires=[0, 1])\n",
    "    \n",
    "    # Post-nonlocal local rotations:\n",
    "    qml.Rot(params[9], params[10], params[11], wires=0)\n",
    "    qml.Rot(params[12], params[13], params[14], wires=1)\n",
    "    \n",
    "    # We return the state for completeness.\n",
    "    # (However, for our loss function we will extract the full unitary.)\n",
    "    return qml.state()"
   ]
  },
  {
   "cell_type": "code",
   "execution_count": 94,
   "id": "5f6a17ef-46ad-4eba-afc0-b57c41a943a2",
   "metadata": {},
   "outputs": [],
   "source": [
    "def loss(params):\n",
    "    # Get the unitary representation of the circuit.\n",
    "    # qml.matrix returns the full unitary of the QNode (up to a global phase).\n",
    "    U_est = qml.matrix(variational_circuit)(params)\n",
    "    \n",
    "    # Define a fidelity measure between unitaries (up to global phase):\n",
    "    # Fidelity F = |Tr(U_target† U_est)| / 4.\n",
    "    # Our loss is then 1 - F^2, which is 0 when U_est = U_target up to global phase.\n",
    "    fidelity = np.abs(np.trace(np.conj(U_target).T @ U_est)) / 4\n",
    "    return 1 - fidelity**2"
   ]
  },
  {
   "cell_type": "markdown",
   "id": "a345bdca-33b5-4cbb-8311-264529f24bab",
   "metadata": {},
   "source": [
    "### Optimization Procedure (Gradient Descent)\n",
    "\n",
    "We'll now use PennyLane's **automatic differentiation** capabilities to optimize our variational ansatz, minimizing a suitable loss function to approximate our randomly generated $SU(4)$ gate.\n",
    "\n",
    "**Our optimization process consists of these key steps:**\n",
    "\n",
    "1. Define a parametrized quantum circuit (called an *ansatz*).\n",
    "2. Choose a suitable cost function (the square of the Hilbert-Schmidt norm of $U_{target}-U_{est}$).\n",
    "3. Perform gradient-descent steps iteratively updating the parameters to minimize our cost.\n",
    "4. Monitor convergence and verify the accuracy of approximation numerically.\n",
    "\n",
    "Let's implement this explicitly now."
   ]
  },
  {
   "cell_type": "code",
   "execution_count": 110,
   "id": "7f69f2dd-1c31-400b-8ae7-f037fe8f0eb9",
   "metadata": {},
   "outputs": [
    {
     "name": "stdout",
     "output_type": "stream",
     "text": [
      "Step   0: Loss = 0.971404\n",
      "Step  10: Loss = 0.958004\n",
      "Step  20: Loss = 0.939135\n",
      "Step  30: Loss = 0.914274\n",
      "Step  40: Loss = 0.884007\n",
      "Step  50: Loss = 0.849181\n",
      "Step  60: Loss = 0.808309\n",
      "Step  70: Loss = 0.754495\n",
      "Step  80: Loss = 0.675598\n",
      "Step  90: Loss = 0.564393\n",
      "Step 100: Loss = 0.433813\n",
      "Step 110: Loss = 0.308422\n",
      "Step 120: Loss = 0.205466\n",
      "Step 130: Loss = 0.134683\n",
      "Step 140: Loss = 0.094060\n",
      "Step 150: Loss = 0.072714\n",
      "Step 160: Loss = 0.061215\n",
      "Step 170: Loss = 0.054384\n",
      "Step 180: Loss = 0.049762\n",
      "Step 190: Loss = 0.046197\n",
      "\n",
      "Final fidelity (variational approach): 0.9781936476814603\n"
     ]
    }
   ],
   "source": [
    "# Initialize the 15 parameters uniformly between 0 and 2*pi.\n",
    "params = np.random.uniform(0, 2 * np.pi, 15)\n",
    "\n",
    "# Choose an optimizer (Pennylane's gradient descent).\n",
    "opt = qml.GradientDescentOptimizer(stepsize=0.1)\n",
    "steps = 200\n",
    "\n",
    "for i in range(steps):\n",
    "    params, current_loss = opt.step_and_cost(loss, params)\n",
    "    if i % 10 == 0:\n",
    "        print(f\"Step {i:3d}: Loss = {current_loss:.6f}\")\n",
    "\n",
    "# After training, extract the learned unitary.\n",
    "U_learned = qml.matrix(variational_circuit)(params)\n",
    "final_fidelity = np.abs(np.trace(np.conj(U_target).T @ U_learned)) / 4\n",
    "print(\"\\nFinal fidelity (variational approach):\", final_fidelity)"
   ]
  },
  {
   "cell_type": "markdown",
   "id": "d5eec1dc-17a9-47be-a1b6-7459be4589f2",
   "metadata": {},
   "source": [
    "### Discussion\n",
    "\n",
    "- **Variational Approach:**  \n",
    "  By parameterizing a circuit that mimics the KAK form, we used gradient descent to optimize the circuit so that its unitary $U_{\\text{learned}}$ approximates our target $U_{\\text{target}}$. The loss function was defined via a fidelity measure that is insensitive to global phase.\n",
    "\n",
    "- **Comparison:**  \n",
    "  The closed-form KAK decomposition, when computed exactly, should reproduce the target unitary exactly (fidelity 1 up to numerical error). In our variational method, if the optimization converges well the final fidelity should be very close to 1.  \n",
    "\n",
    "- **Advantages:**  \n",
    "  This gradient-based (variational) method is fully differentiable and can be integrated into larger quantum machine learning pipelines. It also has the potential to “learn” decompositions when analytical methods are intractable or when one wants to optimize over additional cost functions.\n",
    "\n",
    "- **Limitations:**  \n",
    "  The optimization is iterative and may require careful tuning of hyperparameters (like the learning rate and the number of steps) and might get stuck in local minima. In contrast, a closed-form method computes the parameters directly.\n",
    "\n",
    "Overall, this example demonstrates that with Pennylane’s QML libraries you can trade an analytical procedure for a differentiable, optimization‑based approach that fits naturally into variational quantum algorithms."
   ]
  },
  {
   "cell_type": "markdown",
   "id": "eaaec46f",
   "metadata": {},
   "source": [
    "## Comparing Approaches\n",
    "We've demonstrated two powerful yet distinct methodologies for decomposing two-qubit gates. The Khaneja-Glaser method explicitly utilizes Lie-theoretic decomposition, while the QML approach leverages modern automatic differentiation frameworks for variational optimization.\n",
    "\n",
    "This comparison highlights the flexibility and power of integrating advanced mathematics with cutting-edge quantum computing techniques."
   ]
  },
  {
   "cell_type": "markdown",
   "id": "d6ae0b85",
   "metadata": {},
   "source": [
    "# Conclusion and Key Takeaways\n",
    "\n",
    "In this notebook, you've gained hands-on experience with essential gate decomposition methods widely used in quantum computing:\n",
    "\n",
    "- You've explicitly applied sophisticated Lie algebra theory via the Khaneja-Glaser algorithm.\n",
    "- You've implemented modern quantum machine learning techniques with PennyLane to variationally approximate gates.\n",
    "\n",
    "This demonstrates clearly how theoretical mathematics, specifically Lie theory, informs practical quantum computing tasks—skills highly valued in both research and industrial roles."
   ]
  },
  {
   "cell_type": "markdown",
   "id": "5b9b9398-dcc4-4bcc-b2ed-755ed12d8808",
   "metadata": {},
   "source": [
    "## References\n",
    "\n",
    "1.  Khaneja, N., & Glaser, S. J. (2001). Cartan decomposition of $SU(2)$ and control of spin systems. Chemical Physics, 267(1), 11–23. DOI: [10.1016/S0301-0104(01)00318-4](https://doi.org/10.1016/S0301-0104(01)00318-4)\n",
    "\n",
    "\n",
    "2. Henrique N. Sá Earp and Jiannis K. Pachos, A constructive algorithm for the Cartan decomposition of SU(2ⁿ), Journal of Mathematical Physics 46, 082108 (2005). DOI: [10.1063/1.2008210](https://doi.org/10.1063/1.2008210)"
   ]
  },
  {
   "cell_type": "markdown",
   "id": "362ff4d0-8406-4c92-920f-17e054ce8f04",
   "metadata": {},
   "source": [
    "**Copyright © 2025 Quantum Formalism Academy. All rights reserved.**\n",
    "\n",
    "This notebook is a product of **Quantum Formalism Academy** and is intended for educational purposes. Redistribution, modification, or commercial use of this material without prior written permission from Quantum Formalism is prohibited."
   ]
  },
  {
   "cell_type": "markdown",
   "id": "b727c715-eac2-43b9-a246-ac8760ab0f1a",
   "metadata": {},
   "source": [
    "![QF-mission](https://brainhelper.wordpress.com/wp-content/uploads/2025/03/qf-down.png)"
   ]
  }
 ],
 "metadata": {
  "kernelspec": {
   "display_name": "Python (miniforge3)",
   "language": "python",
   "name": "miniforge3"
  },
  "language_info": {
   "codemirror_mode": {
    "name": "ipython",
    "version": 3
   },
   "file_extension": ".py",
   "mimetype": "text/x-python",
   "name": "python",
   "nbconvert_exporter": "python",
   "pygments_lexer": "ipython3",
   "version": "3.12.7"
  }
 },
 "nbformat": 4,
 "nbformat_minor": 5
}
